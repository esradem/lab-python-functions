{
 "cells": [
  {
   "cell_type": "markdown",
   "id": "25d7736c-ba17-4aff-b6bb-66eba20fbf4e",
   "metadata": {},
   "source": [
    "# Lab | Functions"
   ]
  },
  {
   "cell_type": "markdown",
   "id": "0c581062-8967-4d93-b06e-62833222f930",
   "metadata": {
    "tags": []
   },
   "source": [
    "## Exercise: Managing Customer Orders with Functions\n",
    "\n",
    "In the previous exercise, you improved the code for managing customer orders by using loops and flow control. Now, let's take it a step further and refactor the code by introducing functions.\n",
    "\n",
    "Follow the steps below to complete the exercise:\n",
    "\n",
    "1. Define a function named `initialize_inventory` that takes `products` as a parameter. Inside the function, implement the code for initializing the inventory dictionary using a loop and user input.\n",
    "\n",
    "2. Define a function named `get_customer_orders` that takes no parameters. Inside the function, implement the code for prompting the user to enter the product names using a loop. The function should return the `customer_orders` set.\n",
    "\n",
    "3. Define a function named `update_inventory` that takes `customer_orders` and `inventory` as parameters. Inside the function, implement the code for updating the inventory dictionary based on the customer orders.\n",
    "\n",
    "4. Define a function named `calculate_order_statistics` that takes `customer_orders` and `products` as parameters. Inside the function, implement the code for calculating the order statistics (total products ordered, and percentage of unique products ordered). The function should return these values.\n",
    "\n",
    "5. Define a function named `print_order_statistics` that takes `order_statistics` as a parameter. Inside the function, implement the code for printing the order statistics.\n",
    "\n",
    "6. Define a function named `print_updated_inventory` that takes `inventory` as a parameter. Inside the function, implement the code for printing the updated inventory.\n",
    "\n",
    "7. Call the functions in the appropriate sequence to execute the program and manage customer orders.\n",
    "\n",
    "Hints for functions:\n",
    "\n",
    "- Consider the input parameters required for each function and their return values.\n",
    "- Utilize function parameters and return values to transfer data between functions.\n",
    "- Test your functions individually to ensure they work correctly.\n",
    "\n",
    "\n"
   ]
  },
  {
   "cell_type": "code",
   "execution_count": 13,
   "id": "e7de5235-0d31-48aa-a030-00ba47d0980a",
   "metadata": {},
   "outputs": [
    {
     "name": "stdin",
     "output_type": "stream",
     "text": [
      "please enter quantity for the products:  10\n",
      "please enter quantity for the products:  20\n",
      "please enter quantity for the products:  30\n",
      "please enter quantity for the products:  40\n",
      "please enter quantity for the products:  50\n"
     ]
    },
    {
     "data": {
      "text/plain": [
       "{'t-shirt': 10, 'mug': 20, 'hat': 30, 'book': 40, 'keychain': 50}"
      ]
     },
     "execution_count": 13,
     "metadata": {},
     "output_type": "execute_result"
    }
   ],
   "source": [
    "#Define a function named initialize_inventory that takes products as a parameter. \n",
    "#Inside the function, implement the code for initializing the inventory dictionary using a loop and user input.\n",
    "\n",
    "products = [ \"t-shirt\", \"mug\", \"hat\", \"book\", \"keychain\"]\n",
    "inventory={}\n",
    "def initialize_inventory(products):\n",
    "    for product in products:\n",
    "        quantity= int(input(\"please enter quantity for the products: \"))\n",
    "        inventory[product]= quantity\n",
    "    return inventory\n",
    "initialize_inventory(products)"
   ]
  },
  {
   "cell_type": "code",
   "execution_count": 15,
   "id": "d6d0c8bb-49d3-44b1-8c0e-6138c52940e7",
   "metadata": {},
   "outputs": [
    {
     "name": "stdin",
     "output_type": "stream",
     "text": [
      "please enter products that you want to order;  coffee\n"
     ]
    },
    {
     "name": "stdout",
     "output_type": "stream",
     "text": [
      "Product not found please add available products: ['t-shirt', 'mug', 'hat', 'book', 'keychain']\n"
     ]
    },
    {
     "name": "stdin",
     "output_type": "stream",
     "text": [
      "please enter products that you want to order;  hat\n",
      "Do you want to add more product: Y or N y\n",
      "please enter products that you want to order;  book\n",
      "Do you want to add more product: Y or N n\n"
     ]
    },
    {
     "name": "stdout",
     "output_type": "stream",
     "text": [
      "{'hat', 'book'}\n"
     ]
    }
   ],
   "source": [
    "customer_orders= set()\n",
    "def get_customer_orders():\n",
    "    while True:\n",
    "        order= input(\"please enter products that you want to order; \")\n",
    "        if order in products:\n",
    "            customer_orders.add(order)\n",
    "        else:\n",
    "            print(f\"Product not found please add available products: {products}\")\n",
    "            continue\n",
    "        while True:\n",
    "            question= input (f\"Do you want to add more product: {\"Y\"} or {\"N\"}\").lower()\n",
    "            if question ==  \"y\"  or question ==\"n\":\n",
    "                break\n",
    "            else:\n",
    "                print(\"Please enter Y or N.\")\n",
    "        if question ==\"n\":\n",
    "                        break\n",
    "    return customer_orders\n",
    "orders=get_customer_orders()\n",
    "print(customer_orders)"
   ]
  },
  {
   "cell_type": "code",
   "execution_count": 19,
   "id": "c5421499-1c5c-4c30-aca0-6cff364ab963",
   "metadata": {},
   "outputs": [
    {
     "data": {
      "text/plain": [
       "{'t-shirt': 10, 'mug': 20, 'hat': 28, 'book': 39, 'keychain': 50}"
      ]
     },
     "execution_count": 19,
     "metadata": {},
     "output_type": "execute_result"
    }
   ],
   "source": [
    "#3-define a function named update_inventory that takes customer_orders and inventory as parameters. \n",
    "#Inside the function, implement the code for updating the inventory dictionary based on the customer orders.\n",
    "def update_inventory(customer_orders, inventory):\n",
    "    for product in customer_orders:\n",
    "        inventory[product]-=1\n",
    "    return inventory\n",
    "update_inventory(customer_orders, inventory)\n",
    "#print(inventory)"
   ]
  },
  {
   "cell_type": "code",
   "execution_count": 77,
   "id": "f7401c76-6ef4-4822-9dc8-a01d0f6f78be",
   "metadata": {},
   "outputs": [
    {
     "name": "stdout",
     "output_type": "stream",
     "text": [
      "Total product ordered 2\n",
      "Unique product ordered 40.0%\n"
     ]
    }
   ],
   "source": [
    "#4-5\n",
    "def calculate_order_statistics(customer_orders, products):\n",
    "\n",
    "    total_product_ordered=len(customer_orders)\n",
    "    unique_product_ordered= (total_product_ordered/len(products))*100\n",
    "    return total_product_ordered, unique_product_ordered\n",
    "    \n",
    "\n",
    "def print_order_statistic(order_statistics):\n",
    "    total_product_ordered, unique_product_ordered = order_statistics\n",
    "    print(f\"Total product ordered {total_product_ordered}\")\n",
    "    print(f\"Unique product ordered {unique_product_ordered}%\")\n",
    "   \n",
    "print_order_statistic(order_statistics)"
   ]
  },
  {
   "cell_type": "code",
   "execution_count": null,
   "id": "0ad6cdae-631a-4127-afd2-67d9621d07c2",
   "metadata": {},
   "outputs": [],
   "source": [
    "#Define a function named print_updated_inventory that takes inventory as a parameter. Inside the function, implement the code for printing the updated inventory.\n",
    "def print_updated_inventory (inventory):\n",
    "    for product in customer_orders:\n",
    "        inventory[product]-=1\n",
    "    return inventory\n",
    "print_updated_inventory(inventory)\n",
    "#print(print_updated_inventory(inventory))"
   ]
  },
  {
   "cell_type": "code",
   "execution_count": null,
   "id": "757efe7e-999a-4860-8482-6f0d08f8cf31",
   "metadata": {},
   "outputs": [],
   "source": []
  }
 ],
 "metadata": {
  "kernelspec": {
   "display_name": "Python [conda env:base] *",
   "language": "python",
   "name": "conda-base-py"
  },
  "language_info": {
   "codemirror_mode": {
    "name": "ipython",
    "version": 3
   },
   "file_extension": ".py",
   "mimetype": "text/x-python",
   "name": "python",
   "nbconvert_exporter": "python",
   "pygments_lexer": "ipython3",
   "version": "3.12.7"
  }
 },
 "nbformat": 4,
 "nbformat_minor": 5
}
